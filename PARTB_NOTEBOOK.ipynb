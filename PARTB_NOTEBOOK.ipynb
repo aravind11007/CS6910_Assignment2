{
 "cells": [
  {
   "cell_type": "code",
   "execution_count": 1,
   "id": "2d726768",
   "metadata": {},
   "outputs": [],
   "source": [
    "import pytorch_lightning as pl\n",
    "import torch.nn as nn\n",
    "import numpy as np\n",
    "import cv2\n",
    "import matplotlib.pyplot as plt\n",
    "import torch\n",
    "from torchvision.datasets import DatasetFolder\n",
    "from torchvision import transforms\n",
    "from torch.utils.data import Subset\n",
    "from tqdm.notebook import tqdm\n",
    "from torch.utils.data import DataLoader\n",
    "import albumentations as alb\n",
    "import torchvision\n",
    "from pytorch_lightning.callbacks import ModelCheckpoint\n",
    "import wandb"
   ]
  },
  {
   "cell_type": "code",
   "execution_count": 2,
   "id": "f32dac71",
   "metadata": {},
   "outputs": [
    {
     "name": "stderr",
     "output_type": "stream",
     "text": [
      "\u001b[34m\u001b[1mwandb\u001b[0m: Currently logged in as: \u001b[33maravind_iitm\u001b[0m. Use \u001b[1m`wandb login --relogin`\u001b[0m to force relogin\n",
      "\u001b[34m\u001b[1mwandb\u001b[0m: \u001b[33mWARNING\u001b[0m If you're specifying your api key in code, ensure this code is not shared publicly.\n",
      "\u001b[34m\u001b[1mwandb\u001b[0m: \u001b[33mWARNING\u001b[0m Consider setting the WANDB_API_KEY environment variable, or running `wandb login` from the command line.\n",
      "\u001b[34m\u001b[1mwandb\u001b[0m: Appending key for api.wandb.ai to your netrc file: C:\\Users\\PhysioSens\\.netrc\n"
     ]
    },
    {
     "data": {
      "text/html": [
       "wandb version 0.16.6 is available!  To upgrade, please run:\n",
       " $ pip install wandb --upgrade"
      ],
      "text/plain": [
       "<IPython.core.display.HTML object>"
      ]
     },
     "metadata": {},
     "output_type": "display_data"
    },
    {
     "data": {
      "text/html": [
       "Tracking run with wandb version 0.16.4"
      ],
      "text/plain": [
       "<IPython.core.display.HTML object>"
      ]
     },
     "metadata": {},
     "output_type": "display_data"
    },
    {
     "data": {
      "text/html": [
       "Run data is saved locally in <code>C:\\Users\\PhysioSens\\Desktop\\python-jupyter\\CS6910\\CNN\\wandb\\run-20240407_182814-b2xnx8lb</code>"
      ],
      "text/plain": [
       "<IPython.core.display.HTML object>"
      ]
     },
     "metadata": {},
     "output_type": "display_data"
    },
    {
     "data": {
      "text/html": [
       "Syncing run <strong><a href='https://wandb.ai/aravind_iitm/CNN_NATURALIST_/runs/b2xnx8lb' target=\"_blank\">driven-resonance-134</a></strong> to <a href='https://wandb.ai/aravind_iitm/CNN_NATURALIST_' target=\"_blank\">Weights & Biases</a> (<a href='https://wandb.me/run' target=\"_blank\">docs</a>)<br/>"
      ],
      "text/plain": [
       "<IPython.core.display.HTML object>"
      ]
     },
     "metadata": {},
     "output_type": "display_data"
    },
    {
     "data": {
      "text/html": [
       " View project at <a href='https://wandb.ai/aravind_iitm/CNN_NATURALIST_' target=\"_blank\">https://wandb.ai/aravind_iitm/CNN_NATURALIST_</a>"
      ],
      "text/plain": [
       "<IPython.core.display.HTML object>"
      ]
     },
     "metadata": {},
     "output_type": "display_data"
    },
    {
     "data": {
      "text/html": [
       " View run at <a href='https://wandb.ai/aravind_iitm/CNN_NATURALIST_/runs/b2xnx8lb' target=\"_blank\">https://wandb.ai/aravind_iitm/CNN_NATURALIST_/runs/b2xnx8lb</a>"
      ],
      "text/plain": [
       "<IPython.core.display.HTML object>"
      ]
     },
     "metadata": {},
     "output_type": "display_data"
    },
    {
     "data": {
      "text/html": [
       "<button onClick=\"this.nextSibling.style.display='block';this.style.display='none';\">Display W&B run</button><iframe src='https://wandb.ai/aravind_iitm/CNN_NATURALIST_/runs/b2xnx8lb?jupyter=true' style='border:none;width:100%;height:420px;display:none;'></iframe>"
      ],
      "text/plain": [
       "<wandb.sdk.wandb_run.Run at 0x1aeded8ff10>"
      ]
     },
     "execution_count": 2,
     "metadata": {},
     "output_type": "execute_result"
    }
   ],
   "source": [
    "project_name='CNN_NATURALIST_'\n",
    "wandb.login(key=\"5bfaaa474f16b4400560a3efa1e961104ed54810\")\n",
    "wandb.init(project=project_name)"
   ]
  },
  {
   "cell_type": "code",
   "execution_count": 3,
   "id": "cc0ca167",
   "metadata": {},
   "outputs": [],
   "source": [
    "###function for loading the image\n",
    "\n",
    "def load(path):\n",
    "    img=cv2.imread(path)\n",
    "    img=cv2.resize(img,(224,224),cv2.INTER_AREA)\n",
    "    img=img/255\n",
    "    return img\n"
   ]
  },
  {
   "cell_type": "code",
   "execution_count": 4,
   "id": "b9dcfefa",
   "metadata": {},
   "outputs": [],
   "source": [
    "###path for train and test####\n",
    "\n",
    "train_path=r'D:\\DL_DATA\\naturalist\\inaturalist_12K\\train'\n",
    "test_path=r'D:\\DL_DATA\\naturalist\\inaturalist_12K\\val'\n"
   ]
  },
  {
   "cell_type": "code",
   "execution_count": 5,
   "id": "8013ae7a",
   "metadata": {},
   "outputs": [],
   "source": [
    "transform=transforms.ToTensor()\n"
   ]
  },
  {
   "cell_type": "code",
   "execution_count": 6,
   "id": "3e97994b",
   "metadata": {},
   "outputs": [],
   "source": [
    "###loading the train and test data as torch tensors###\n",
    "train_data_=DatasetFolder(root=train_path,loader=load,extensions='.jpg',transform=transform)\n",
    "test_data=DatasetFolder(root=test_path,loader=load,extensions='.jpg',transform=transform)\n"
   ]
  },
  {
   "cell_type": "code",
   "execution_count": 7,
   "id": "f7277d70",
   "metadata": {},
   "outputs": [],
   "source": [
    "####taking the indices for train and val so that number of image in each class is same#####\n",
    "train_indx=[]\n",
    "val_indx=[]\n",
    "for i in range(0,len(train_data_),1000):\n",
    "    train_indx+=list(range(i,i+800))\n",
    "    val_indx+=list(range(i+800,i+1000))\n",
    "val_indx=val_indx[0:-1]"
   ]
  },
  {
   "cell_type": "code",
   "execution_count": 8,
   "id": "d2932d01",
   "metadata": {},
   "outputs": [],
   "source": [
    "#####splitting the 20% of train data into val data\n",
    "train_data=Subset(dataset=train_data_,indices=train_indx)\n",
    "val_data=Subset(dataset=train_data_,indices=val_indx)"
   ]
  },
  {
   "cell_type": "code",
   "execution_count": 9,
   "id": "6de998d6",
   "metadata": {},
   "outputs": [],
   "source": [
    "###### creating data loader for train, val and test\n",
    "train_loader=DataLoader(train_data,batch_size=32,shuffle=True,drop_last=True)\n",
    "val_loader=DataLoader(val_data,batch_size=32,shuffle=True,drop_last=True)\n",
    "test_loader=DataLoader(test_data,batch_size=32,shuffle=True,drop_last=True)\n",
    "\n",
    "#### using albumentation library for augmentation\n",
    "from torchvision import transforms\n",
    "augmentor=transforms.Compose([\n",
    "    transforms.RandomHorizontalFlip(p=.2),\n",
    "    transforms.RandomVerticalFlip(p=.2),\n",
    "    transforms.RandomAutocontrast(p=.2),\n",
    "    transforms.RandomRotation(degrees=(-10,10)),\n",
    "    transforms.RandomAdjustSharpness(sharpness_factor=0,p=.2),\n",
    "    transforms.Resize((224,224))\n",
    "])"
   ]
  },
  {
   "cell_type": "code",
   "execution_count": 16,
   "id": "ac9c4e8f",
   "metadata": {},
   "outputs": [],
   "source": [
    "class CNN_NATURALIST(pl.LightningModule):\n",
    "    def __init__(self,data_aug=False):\n",
    "        super().__init__()\n",
    "        self.data_aug=data_aug\n",
    "        \n",
    "        \n",
    "        model=torchvision.models.vgg19(pretrained=True)\n",
    "        for params in model.features[0:15].parameters():\n",
    "            params.requires_grad=False\n",
    "        self.model=model\n",
    "        self.model.classifier[6]=nn.Linear(4096,10)\n",
    "        \n",
    "        self.loss_fun=nn.CrossEntropyLoss()\n",
    "        self.optimizer=torch.optim.Adam(self.model.parameters(),lr=1e-4)\n",
    "        \n",
    "        self.train_loss=[]\n",
    "        self.train_acc=[]\n",
    "        self.val_loss=[]\n",
    "        self.val_acc=[]\n",
    "        \n",
    "    def forward(self,x):\n",
    "        \n",
    "        ypred=self.model(x)\n",
    "        #ypred=nn.Softmax(dim=1)(ypred)\n",
    "            \n",
    "        return ypred\n",
    "    \n",
    "    def training_step(self,batch,batch_indx):  ####training happens in this function\n",
    "        img,label=batch\n",
    "        img=img.float()\n",
    "        if self.data_aug:\n",
    "            img=[augmentor(img_) for img_ in img]\n",
    "            img=torch.stack(img)\n",
    "                \n",
    "            \n",
    "        \n",
    "        ypred=self(img)\n",
    "        \n",
    "        loss=self.loss_fun(ypred,label)\n",
    "        \n",
    "        accuracy=(torch.argmax(ypred,dim=1)==label).sum()\n",
    "        \n",
    "        accuracy=accuracy/len(ypred)\n",
    "        \n",
    "        self.log('train_loss', loss, on_step=False, on_epoch=True, prog_bar=True)   ###calculating train_loss after each batch\n",
    "        self.log('train_accuracy', accuracy, on_step=False, on_epoch=True, prog_bar=True) ###calculating in the train_accuracy after each batch\n",
    "        self.train_loss.append(loss.cpu().detach().numpy())\n",
    "        self.train_acc.append(accuracy.cpu().detach().numpy())\n",
    "        \n",
    "        return loss\n",
    "    \n",
    "    def on_train_epoch_end(self):\n",
    "        epoch_loss=np.average(self.train_loss)\n",
    "        epoch_accuracy=np.average(self.train_acc)\n",
    "        \n",
    "        \n",
    "        self.train_loss.clear()\n",
    "        self.train_acc.clear()\n",
    "        \n",
    "        wandb.log({\"Train_Accuracy\":np.round(epoch_accuracy*100,2),\"Train_Loss\":epoch_loss,\"Epoch\":self.current_epoch})\n",
    "        ### logging train accuracy and loss in wandb\n",
    "        \n",
    "        #print(f\"Epoch{self.current_epoch} Final train loss {epoch_loss} and final train accuracy {epoch_accuracy}\")\n",
    "        \n",
    "    def validation_step(self,batch,batch_indx):\n",
    "        img,label=batch\n",
    "        img=img.float()\n",
    "        \n",
    "        ypred=self(img)\n",
    "        \n",
    "        loss=self.loss_fun(ypred,label)\n",
    "        \n",
    "        accuracy=(torch.argmax(ypred,dim=1)==label).sum()\n",
    "        \n",
    "        accuracy=accuracy/len(ypred)\n",
    "        \n",
    "        self.log('val_loss', loss,prog_bar=True)  ###logging in the val_loss after each batch\n",
    "        self.log('val_accuracy', accuracy,prog_bar=True) ###logging in the val_accuracy after each batch\n",
    "        self.val_loss.append(loss.cpu().detach().numpy())\n",
    "        self.val_acc.append(accuracy.cpu().detach().numpy())\n",
    "        \n",
    "        return loss\n",
    "    \n",
    "    def on_validation_epoch_end(self):\n",
    "        epoch_loss=np.average(self.val_loss)\n",
    "        epoch_accuracy=np.average(self.val_acc)\n",
    "        \n",
    "        \n",
    "        self.val_loss.clear()\n",
    "        self.val_acc.clear()\n",
    "        \n",
    "        wandb.log({\"Val_Accuracy\":np.round(epoch_accuracy*100,2),\"Val_Loss\":epoch_loss,\"Epoch\":self.current_epoch})\n",
    "        ### logging val accuracy and loss in wandb\n",
    "        \n",
    "        #print(f\"Epoch{self.current_epoch} Final val loss {epoch_loss} and final val accuracy {epoch_accuracy}\")\n",
    "        \n",
    "        \n",
    "            \n",
    "    def configure_optimizers(self):\n",
    "        return [self.optimizer]"
   ]
  },
  {
   "cell_type": "code",
   "execution_count": 12,
   "id": "6efaa62d",
   "metadata": {},
   "outputs": [
    {
     "name": "stderr",
     "output_type": "stream",
     "text": [
      "GPU available: True (cuda), used: True\n",
      "TPU available: False, using: 0 TPU cores\n",
      "IPU available: False, using: 0 IPUs\n",
      "HPU available: False, using: 0 HPUs\n",
      "You are using a CUDA device ('NVIDIA GeForce RTX 3080 Ti') that has Tensor Cores. To properly utilize them, you should set `torch.set_float32_matmul_precision('medium' | 'high')` which will trade-off precision for performance. For more details, read https://pytorch.org/docs/stable/generated/torch.set_float32_matmul_precision.html#torch.set_float32_matmul_precision\n",
      "LOCAL_RANK: 0 - CUDA_VISIBLE_DEVICES: [0]\n",
      "\n",
      "  | Name     | Type             | Params\n",
      "----------------------------------------------\n",
      "0 | model    | VGG              | 139 M \n",
      "1 | loss_fun | CrossEntropyLoss | 0     \n",
      "----------------------------------------------\n",
      "137 M     Trainable params\n",
      "1.7 M     Non-trainable params\n",
      "139 M     Total params\n",
      "558.445   Total estimated model params size (MB)\n"
     ]
    },
    {
     "data": {
      "application/vnd.jupyter.widget-view+json": {
       "model_id": "",
       "version_major": 2,
       "version_minor": 0
      },
      "text/plain": [
       "Sanity Checking: |                                                                               | 0/? [00:00<…"
      ]
     },
     "metadata": {},
     "output_type": "display_data"
    },
    {
     "name": "stderr",
     "output_type": "stream",
     "text": [
      "C:\\Users\\PhysioSens\\AppData\\Roaming\\Python\\Python39\\site-packages\\pytorch_lightning\\trainer\\connectors\\data_connector.py:492: Your `val_dataloader`'s sampler has shuffling enabled, it is strongly recommended that you turn shuffling off for val/test dataloaders.\n",
      "C:\\Users\\PhysioSens\\AppData\\Roaming\\Python\\Python39\\site-packages\\pytorch_lightning\\trainer\\connectors\\data_connector.py:441: The 'val_dataloader' does not have many workers which may be a bottleneck. Consider increasing the value of the `num_workers` argument` to `num_workers=23` in the `DataLoader` to improve performance.\n",
      "C:\\Users\\PhysioSens\\AppData\\Roaming\\Python\\Python39\\site-packages\\pytorch_lightning\\trainer\\connectors\\data_connector.py:441: The 'train_dataloader' does not have many workers which may be a bottleneck. Consider increasing the value of the `num_workers` argument` to `num_workers=23` in the `DataLoader` to improve performance.\n"
     ]
    },
    {
     "data": {
      "application/vnd.jupyter.widget-view+json": {
       "model_id": "ffdfa50eada14b5196bdcfd4d8dd859f",
       "version_major": 2,
       "version_minor": 0
      },
      "text/plain": [
       "Training: |                                                                                      | 0/? [00:00<…"
      ]
     },
     "metadata": {},
     "output_type": "display_data"
    },
    {
     "data": {
      "application/vnd.jupyter.widget-view+json": {
       "model_id": "",
       "version_major": 2,
       "version_minor": 0
      },
      "text/plain": [
       "Validation: |                                                                                    | 0/? [00:00<…"
      ]
     },
     "metadata": {},
     "output_type": "display_data"
    },
    {
     "data": {
      "application/vnd.jupyter.widget-view+json": {
       "model_id": "",
       "version_major": 2,
       "version_minor": 0
      },
      "text/plain": [
       "Validation: |                                                                                    | 0/? [00:00<…"
      ]
     },
     "metadata": {},
     "output_type": "display_data"
    },
    {
     "data": {
      "application/vnd.jupyter.widget-view+json": {
       "model_id": "",
       "version_major": 2,
       "version_minor": 0
      },
      "text/plain": [
       "Validation: |                                                                                    | 0/? [00:00<…"
      ]
     },
     "metadata": {},
     "output_type": "display_data"
    },
    {
     "data": {
      "application/vnd.jupyter.widget-view+json": {
       "model_id": "",
       "version_major": 2,
       "version_minor": 0
      },
      "text/plain": [
       "Validation: |                                                                                    | 0/? [00:00<…"
      ]
     },
     "metadata": {},
     "output_type": "display_data"
    },
    {
     "data": {
      "application/vnd.jupyter.widget-view+json": {
       "model_id": "",
       "version_major": 2,
       "version_minor": 0
      },
      "text/plain": [
       "Validation: |                                                                                    | 0/? [00:00<…"
      ]
     },
     "metadata": {},
     "output_type": "display_data"
    },
    {
     "data": {
      "application/vnd.jupyter.widget-view+json": {
       "model_id": "",
       "version_major": 2,
       "version_minor": 0
      },
      "text/plain": [
       "Validation: |                                                                                    | 0/? [00:00<…"
      ]
     },
     "metadata": {},
     "output_type": "display_data"
    },
    {
     "data": {
      "application/vnd.jupyter.widget-view+json": {
       "model_id": "",
       "version_major": 2,
       "version_minor": 0
      },
      "text/plain": [
       "Validation: |                                                                                    | 0/? [00:00<…"
      ]
     },
     "metadata": {},
     "output_type": "display_data"
    },
    {
     "data": {
      "application/vnd.jupyter.widget-view+json": {
       "model_id": "",
       "version_major": 2,
       "version_minor": 0
      },
      "text/plain": [
       "Validation: |                                                                                    | 0/? [00:00<…"
      ]
     },
     "metadata": {},
     "output_type": "display_data"
    },
    {
     "data": {
      "application/vnd.jupyter.widget-view+json": {
       "model_id": "",
       "version_major": 2,
       "version_minor": 0
      },
      "text/plain": [
       "Validation: |                                                                                    | 0/? [00:00<…"
      ]
     },
     "metadata": {},
     "output_type": "display_data"
    },
    {
     "data": {
      "application/vnd.jupyter.widget-view+json": {
       "model_id": "",
       "version_major": 2,
       "version_minor": 0
      },
      "text/plain": [
       "Validation: |                                                                                    | 0/? [00:00<…"
      ]
     },
     "metadata": {},
     "output_type": "display_data"
    },
    {
     "data": {
      "application/vnd.jupyter.widget-view+json": {
       "model_id": "",
       "version_major": 2,
       "version_minor": 0
      },
      "text/plain": [
       "Validation: |                                                                                    | 0/? [00:00<…"
      ]
     },
     "metadata": {},
     "output_type": "display_data"
    },
    {
     "data": {
      "application/vnd.jupyter.widget-view+json": {
       "model_id": "",
       "version_major": 2,
       "version_minor": 0
      },
      "text/plain": [
       "Validation: |                                                                                    | 0/? [00:00<…"
      ]
     },
     "metadata": {},
     "output_type": "display_data"
    },
    {
     "data": {
      "application/vnd.jupyter.widget-view+json": {
       "model_id": "",
       "version_major": 2,
       "version_minor": 0
      },
      "text/plain": [
       "Validation: |                                                                                    | 0/? [00:00<…"
      ]
     },
     "metadata": {},
     "output_type": "display_data"
    },
    {
     "data": {
      "application/vnd.jupyter.widget-view+json": {
       "model_id": "",
       "version_major": 2,
       "version_minor": 0
      },
      "text/plain": [
       "Validation: |                                                                                    | 0/? [00:00<…"
      ]
     },
     "metadata": {},
     "output_type": "display_data"
    },
    {
     "data": {
      "application/vnd.jupyter.widget-view+json": {
       "model_id": "",
       "version_major": 2,
       "version_minor": 0
      },
      "text/plain": [
       "Validation: |                                                                                    | 0/? [00:00<…"
      ]
     },
     "metadata": {},
     "output_type": "display_data"
    },
    {
     "data": {
      "application/vnd.jupyter.widget-view+json": {
       "model_id": "",
       "version_major": 2,
       "version_minor": 0
      },
      "text/plain": [
       "Validation: |                                                                                    | 0/? [00:00<…"
      ]
     },
     "metadata": {},
     "output_type": "display_data"
    },
    {
     "data": {
      "application/vnd.jupyter.widget-view+json": {
       "model_id": "",
       "version_major": 2,
       "version_minor": 0
      },
      "text/plain": [
       "Validation: |                                                                                    | 0/? [00:00<…"
      ]
     },
     "metadata": {},
     "output_type": "display_data"
    },
    {
     "data": {
      "application/vnd.jupyter.widget-view+json": {
       "model_id": "",
       "version_major": 2,
       "version_minor": 0
      },
      "text/plain": [
       "Validation: |                                                                                    | 0/? [00:00<…"
      ]
     },
     "metadata": {},
     "output_type": "display_data"
    },
    {
     "data": {
      "application/vnd.jupyter.widget-view+json": {
       "model_id": "",
       "version_major": 2,
       "version_minor": 0
      },
      "text/plain": [
       "Validation: |                                                                                    | 0/? [00:00<…"
      ]
     },
     "metadata": {},
     "output_type": "display_data"
    },
    {
     "data": {
      "application/vnd.jupyter.widget-view+json": {
       "model_id": "",
       "version_major": 2,
       "version_minor": 0
      },
      "text/plain": [
       "Validation: |                                                                                    | 0/? [00:00<…"
      ]
     },
     "metadata": {},
     "output_type": "display_data"
    },
    {
     "name": "stderr",
     "output_type": "stream",
     "text": [
      "`Trainer.fit` stopped: `max_epochs=20` reached.\n"
     ]
    }
   ],
   "source": [
    "monitor=ModelCheckpoint(monitor='val_accuracy',save_top_k=1,mode='max')\n",
    "model=CNN_NATURALIST(data_aug=True)\n",
    "trainer=pl.Trainer(accelerator='auto',max_epochs=20,callbacks=monitor)\n",
    "trainer.fit(model,train_loader,val_loader)\n"
   ]
  },
  {
   "cell_type": "code",
   "execution_count": 18,
   "id": "82ae716f",
   "metadata": {},
   "outputs": [],
   "source": [
    "model=CNN_NATURALIST.load_from_checkpoint(r'C:\\Users\\PhysioSens\\Desktop\\python-jupyter\\CS6910\\CNN\\lightning_logs\\version_19\\checkpoints\\epoch=11-step=3000.ckpt')"
   ]
  },
  {
   "cell_type": "code",
   "execution_count": 20,
   "id": "596dc031",
   "metadata": {},
   "outputs": [
    {
     "data": {
      "text/plain": [
       "0.7035"
      ]
     },
     "execution_count": 20,
     "metadata": {},
     "output_type": "execute_result"
    }
   ],
   "source": [
    "count=0\n",
    "for img, label in test_data:\n",
    "    img=img.unsqueeze(0)\n",
    "    img=img.float()\n",
    "    img=img.to('cuda')\n",
    "    pred=model(img)\n",
    "    pred=torch.argmax(pred,axis=1)\n",
    "\n",
    "    if pred==label:\n",
    "        count+=1\n",
    "count/len(test_data)"
   ]
  },
  {
   "cell_type": "code",
   "execution_count": null,
   "id": "20888571",
   "metadata": {},
   "outputs": [],
   "source": []
  }
 ],
 "metadata": {
  "kernelspec": {
   "display_name": "Python 3 (ipykernel)",
   "language": "python",
   "name": "python3"
  },
  "language_info": {
   "codemirror_mode": {
    "name": "ipython",
    "version": 3
   },
   "file_extension": ".py",
   "mimetype": "text/x-python",
   "name": "python",
   "nbconvert_exporter": "python",
   "pygments_lexer": "ipython3",
   "version": "3.9.13"
  }
 },
 "nbformat": 4,
 "nbformat_minor": 5
}
